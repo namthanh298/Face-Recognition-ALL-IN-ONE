{
 "cells": [
  {
   "cell_type": "code",
   "execution_count": 1,
   "metadata": {},
   "outputs": [],
   "source": [
    "import os\n",
    "import cv2\n",
    "import numpy as np\n",
    "import tensorflow as tf\n",
    "from tensorflow.keras.models import model_from_json\n",
    "from tensorflow.keras.preprocessing import image"
   ]
  },
  {
   "cell_type": "code",
   "execution_count": 5,
   "metadata": {},
   "outputs": [],
   "source": [
    "#load model fer_model2 (chứa file .pb)\n",
    "model = tf.keras.models.load_model('fer_model2')             # Thay đường dẫn đến folder fer_model2 vào\n",
    "# Chuyển .pb sang .json (cho opencv hỗ trợ)\n",
    "model_json = model.to_json()\n",
    "# load lại model từ file .json\n",
    "model = model_from_json(model_json)\n",
    "# load weights đã train\n",
    "model.load_weights('fer_model2/fer_model2.h5')             # Thay đường dẫn đến file fer_model2.h5 vào\n",
    "# sử dụng haar_cascade để nhận diện face\n",
    "face_cascade = cv2.CascadeClassifier('haarcascade_frontalface_default.xml')"
   ]
  },
  {
   "cell_type": "code",
   "execution_count": 21,
   "metadata": {},
   "outputs": [
    {
     "data": {
      "text/plain": [
       "<function destroyAllWindows>"
      ]
     },
     "execution_count": 21,
     "metadata": {},
     "output_type": "execute_result"
    }
   ],
   "source": [
    "# Code demo test cam & face\n",
    "cap=cv2.VideoCapture(0)\n",
    "\n",
    "while (True):\n",
    "    ret, frame = cap.read()\n",
    "    gray = cv2.cvtColor(frame, cv2.COLOR_BGR2GRAY)\n",
    "    faces = face_cascade.detectMultiScale(gray, scaleFactor=1.2, minNeighbors=5, \n",
    "                                                        minSize=(30, 30)) \n",
    "    for (x, y, w, h) in faces:\n",
    "        cv2.rectangle(frame, (x, y), (x+w, y+h), (0, 255, 0), 7)\n",
    "    \n",
    "    cv2.imshow(\"Faces found\", frame)\n",
    "\n",
    "    if cv2.waitKey(10) == ord('b'):\n",
    "        break\n",
    "\n",
    "\n",
    "cap.release()\n",
    "cv2.destroyAllWindows\n"
   ]
  },
  {
   "cell_type": "code",
   "execution_count": 17,
   "metadata": {},
   "outputs": [
    {
     "data": {
      "text/plain": [
       "<function destroyAllWindows>"
      ]
     },
     "execution_count": 17,
     "metadata": {},
     "output_type": "execute_result"
    }
   ],
   "source": [
    "# Chạy model và nhận diện trên webcam (dựa trên bài post) \n",
    "\n",
    "cap=cv2.VideoCapture(0)\n",
    "if not cap.isOpened:                   # Nếu webcam ko bật\n",
    "    print('--(!)Error opening video capture')\n",
    "    exit(0)\n",
    "\n",
    "while (True):             # Nếu webcam bật\n",
    "    ret, frame = cap.read()               # đọc từng frame trong video stream\n",
    "\n",
    "    gray = cv2.cvtColor(frame, cv2.COLOR_BGR2GRAY)       # chuyển frame sang grayscale\n",
    "# Nhận diện face bằng haar_cascade\n",
    "    faces_detected = face_cascade.detectMultiScale(gray, scaleFactor=1.1, minNeighbors=5, minSize=(30, 30))\n",
    "    for (x,y,w,h) in faces_detected:\n",
    "        # Vẽ bounding box cho face\n",
    "        cv2.rectangle(frame,(x,y), (x+w,y+h), (0,255,0), 7)\n",
    "# NHẬN DIỆN CẢM XÚC\n",
    "        # Phân vùng ảnh grayscale chứa face\n",
    "        roi_gray = gray[y:y+w,x:x+h]\n",
    "        roi_gray = cv2.resize(roi_gray,(48,48))          # target_size = (48,48) để fit với input của CNN đang dùng\n",
    "        # Đưa roi_gray về dạng array và chuẩn hóa, để model predict\n",
    "        image_pixels = image.img_to_array(roi_gray)\n",
    "        image_pixels = np.expand_dims(image_pixels, axis = 0)\n",
    "        image_pixels /= 255\n",
    "        # Thực hiện model predict\n",
    "        predictions = model.predict(image_pixels)\n",
    "        max_index = np.argmax(predictions)      #  Lấy ra chỉ mục có xác suất dự đoán cao nhất\n",
    "        \n",
    "        # Từ max_index suy ra loại cảm xúc được phân loại\n",
    "        emotion =  ('Boast', 'Angry', 'Fear', 'Happy', 'Sad', 'Suprise', 'Neutral')\n",
    "        emotion_prediction = emotion[max_index]\n",
    "\n",
    "        # Gán label text cho bounding box của face\n",
    "        cv2.putText(frame, emotion_prediction, (x-10, y-10), fontFace=cv2.FONT_HERSHEY_SIMPLEX, \n",
    "                    fontScale=1, color=(0,255,255), thickness=4)\n",
    "        #cv2.putText(frame,label,label_position,cv2.FONT_HERSHEY_SIMPLEX,2,(0,255,0),3)  \n",
    "\n",
    "        #resized_image = cv2.resize(x, (1000, 700))\n",
    "    cv2.imshow('Emotion', frame)\n",
    "        \n",
    "    if cv2.waitKey(10) == ord('b'):\n",
    "        break\n",
    "\n",
    "\n",
    "cap.release()\n",
    "cv2.destroyAllWindows"
   ]
  },
  {
   "cell_type": "code",
   "execution_count": null,
   "metadata": {},
   "outputs": [],
   "source": []
  }
 ],
 "metadata": {
  "kernelspec": {
   "display_name": "Python 3",
   "language": "python",
   "name": "python3"
  },
  "language_info": {
   "codemirror_mode": {
    "name": "ipython",
    "version": 3
   },
   "file_extension": ".py",
   "mimetype": "text/x-python",
   "name": "python",
   "nbconvert_exporter": "python",
   "pygments_lexer": "ipython3",
   "version": "3.9.2"
  }
 },
 "nbformat": 4,
 "nbformat_minor": 2
}
